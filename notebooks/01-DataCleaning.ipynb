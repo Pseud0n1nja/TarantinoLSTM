{
 "cells": [
  {
   "cell_type": "code",
   "execution_count": 14,
   "metadata": {},
   "outputs": [],
   "source": [
    "import re\n",
    "import gensim\n",
    "import os\n",
    "import pickle "
   ]
  },
  {
   "cell_type": "code",
   "execution_count": 3,
   "metadata": {},
   "outputs": [],
   "source": [
    "path_to_data = '../data/raw/'"
   ]
  },
  {
   "cell_type": "code",
   "execution_count": 4,
   "metadata": {},
   "outputs": [],
   "source": [
    "#In the scripts we can find that the dialogs start with the character name in the middle, \n",
    "#because we are working with txt it is 25 white spaces\n",
    "#Also we can find the dialogs always end with \\\\n\\\\n\n",
    "dialog_start = ' ' * 25\n",
    "dialog_end = '\\\\n\\\\n'"
   ]
  },
  {
   "cell_type": "code",
   "execution_count": 8,
   "metadata": {},
   "outputs": [],
   "source": [
    "#We will divide scripts into scenery descriptions and dialogs.\n",
    "dialogs = []\n",
    "scenery = []"
   ]
  },
  {
   "cell_type": "code",
   "execution_count": 6,
   "metadata": {},
   "outputs": [],
   "source": [
    "#function for tokenization and cleaning raw dialogs and sceneries \n",
    "def tokenize_clean(lines):\n",
    "    cleaned_lines = []\n",
    "    for line in lines:\n",
    "        # first remove all placeholders we used for dividing script\n",
    "        line = line.replace('<CENTER>', ' ') \n",
    "        line = line.replace('<BREAK>', ' ')\n",
    "        line = line.replace('<DIALOG>', ' ')\n",
    "        line = gensim.utils.simple_preprocess(line) # cleans and tokenizes text\n",
    "        if len(line) != 0:\n",
    "            cleaned_lines.append(line)\n",
    "    return cleaned_lines"
   ]
  },
  {
   "cell_type": "code",
   "execution_count": 16,
   "metadata": {},
   "outputs": [],
   "source": [
    "def extract_dialog_scenery(script):\n",
    "    script = script.replace(dialog_start, '<CENTER>') #replace whitespaces with placeholder\n",
    "    script = script.replace('\\\\n\\\\n', '<BREAK>') #replace \\\\n\\\\n with placeholder\n",
    "    dialog_patern = '<CENTER>(.*?)<BREAK>'\n",
    "    raw_dialogs = re.findall('<CENTER>(.*?)<BREAK>', script, re.DOTALL) #find all dialog lines\n",
    "    script = re.sub('<CENTER>(.*?)<BREAK>', '<DIALOG>', script) #replace all dialog lines with <DIALOG>\n",
    "    raw_scenary = script.split('<DIALOG>') #divide  scenaries\n",
    "    clean_dialogs = tokenize_clean(raw_dialogs)\n",
    "    clean_dialogs = [['<NEW_LINE>'] + line for line in clean_dialogs] #Add indication of new line\n",
    "    clean_scenery = tokenize_clean(raw_scenary)\n",
    "    return clean_dialogs, clean_scenery     "
   ]
  },
  {
   "cell_type": "code",
   "execution_count": 17,
   "metadata": {},
   "outputs": [],
   "source": [
    "for file in os.listdir(path_to_data):\n",
    "    script = str(open(path_to_data + file, 'rb').read()) # read script\n",
    "    new_dialogs, new_scenery = extract_dialog_scenery(script)\n",
    "    dialogs += new_dialogs\n",
    "    scenery += new_scenery"
   ]
  },
  {
   "cell_type": "code",
   "execution_count": 18,
   "metadata": {},
   "outputs": [],
   "source": [
    "#save clean data\n",
    "pickle.dump(dialogs, open('../data/dialogs.pkl', 'wb'))\n",
    "pickle.dump(scenery, open('../data/scenery.pkl', 'wb'))"
   ]
  },
  {
   "cell_type": "code",
   "execution_count": null,
   "metadata": {},
   "outputs": [],
   "source": []
  }
 ],
 "metadata": {
  "kernelspec": {
   "display_name": "Python 3",
   "language": "python",
   "name": "python3"
  },
  "language_info": {
   "codemirror_mode": {
    "name": "ipython",
    "version": 3
   },
   "file_extension": ".py",
   "mimetype": "text/x-python",
   "name": "python",
   "nbconvert_exporter": "python",
   "pygments_lexer": "ipython3",
   "version": "3.6.8"
  }
 },
 "nbformat": 4,
 "nbformat_minor": 2
}
